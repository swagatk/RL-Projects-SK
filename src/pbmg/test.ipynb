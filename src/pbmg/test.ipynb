{
 "cells": [
  {
   "cell_type": "code",
   "execution_count": null,
   "metadata": {},
   "outputs": [],
   "source": [
    "import numpy as np\n",
    "from skimage.util import view_as_windows\n",
    "\n",
    "imgs = np.random.randint(0, 255, (10, 100, 100, 3))\n",
    "\n",
    "print(np.shape(imgs))\n",
    "n = imgs.shape[0]\n",
    "output_size = 84\n",
    "n = imgs.shape[0]\n",
    "img_size = imgs.shape[1]\n",
    "crop_max = img_size - output_size\n",
    "\n",
    "w1 = np.random.randint(0, crop_max, n)\n",
    "h1 = np.random.randint(0, crop_max, n)\n",
    "\n",
    "windows = view_as_windows(\n",
    "    imgs, (1, output_size, output_size, 1)\n",
    ")\n",
    "\n",
    "print(np.shape(windows))"
   ]
  }
 ],
 "metadata": {
  "interpreter": {
   "hash": "340de7cbd42cc7dbd14fe5b2cd2845eabe32556cc4aa27a228d6b7fb63c6cea8"
  },
  "kernelspec": {
   "display_name": "Python 3.7.8 ('tf2py37')",
   "language": "python",
   "name": "python3"
  },
  "language_info": {
   "name": "python",
   "version": "3.7.8"
  },
  "orig_nbformat": 4
 },
 "nbformat": 4,
 "nbformat_minor": 2
}
