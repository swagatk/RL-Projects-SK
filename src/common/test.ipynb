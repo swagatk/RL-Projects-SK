{
 "cells": [
  {
   "cell_type": "code",
   "execution_count": 13,
   "metadata": {},
   "outputs": [],
   "source": [
    "import numpy as np\n",
    "from skimage.util.shape import view_as_windows\n",
    "\n",
    "img_h = 100\n",
    "img_w = 100\n",
    "out_h = 50\n",
    "out_w = 50\n",
    "n = 20      # batch size\n",
    "\n",
    "crop_max_h = img_h - out_h\n",
    "crop_max_w = img_w - out_w \n",
    "\n",
    "h_idx = np.random.randint(0, crop_max_h, n)\n",
    "w_idx = np.random.randint(0, crop_max_w, n)\n",
    "\n",
    "a = np.random.randint(0, 100, size=(n, img_h, img_w, 3))\n",
    "\n",
    "windows = view_as_windows(a, (1, 50, 50, 1))[..., 0, :, :, 0]\n",
    "cropped_imgs = windows[np.arange(n), h_idx, w_idx]\n",
    "cropped_imgs_t = cropped_imgs.transpose(0, 2, 3, 1)\n"
   ]
  },
  {
   "cell_type": "code",
   "execution_count": 14,
   "metadata": {},
   "outputs": [
    {
     "name": "stdout",
     "output_type": "stream",
     "text": [
      "(20, 100, 100, 3)\n",
      "(20, 51, 51, 3, 50, 50)\n",
      "(20, 3, 50, 50)\n",
      "(20, 50, 50, 3)\n"
     ]
    }
   ],
   "source": [
    "print(np.shape(a))\n",
    "print(np.shape(windows))\n",
    "print(np.shape(cropped_imgs))\n",
    "print(cropped_imgs_t.shape)"
   ]
  }
 ],
 "metadata": {
  "interpreter": {
   "hash": "340de7cbd42cc7dbd14fe5b2cd2845eabe32556cc4aa27a228d6b7fb63c6cea8"
  },
  "kernelspec": {
   "display_name": "Python 3.7.8 ('tf2py37')",
   "language": "python",
   "name": "python3"
  },
  "language_info": {
   "codemirror_mode": {
    "name": "ipython",
    "version": 3
   },
   "file_extension": ".py",
   "mimetype": "text/x-python",
   "name": "python",
   "nbconvert_exporter": "python",
   "pygments_lexer": "ipython3",
   "version": "3.7.8"
  },
  "orig_nbformat": 4
 },
 "nbformat": 4,
 "nbformat_minor": 2
}
